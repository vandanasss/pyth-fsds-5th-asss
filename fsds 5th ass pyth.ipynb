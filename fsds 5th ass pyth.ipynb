{
 "cells": [
  {
   "cell_type": "code",
   "execution_count": 1,
   "id": "04e1e200",
   "metadata": {},
   "outputs": [
    {
     "data": {
      "text/plain": [
       "{}"
      ]
     },
     "execution_count": 1,
     "metadata": {},
     "output_type": "execute_result"
    }
   ],
   "source": [
    "## 1. What does the code for an empty dictionary look like?\n",
    "{}\n",
    "\n",
    "\n"
   ]
  },
  {
   "cell_type": "code",
   "execution_count": null,
   "id": "8a3c4519",
   "metadata": {},
   "outputs": [],
   "source": [
    "\n",
    "\n",
    "\n",
    "## 2. What does a dictionary value with a key 'foo' and a value 42 look like?\n",
    "\n",
    "tmp = {'foo': 42}\n",
    "\n",
    "\n"
   ]
  },
  {
   "cell_type": "code",
   "execution_count": null,
   "id": "48e91b74",
   "metadata": {},
   "outputs": [],
   "source": [
    "\n",
    "\n",
    "## 3. What is the main difference between a dictionary and a list?\n",
    "\n",
    "The elements in a list are ordered, and the elements in a dictionary aren't.\n",
    "Also, elements in a list must be accessed using numerical indices. Elements in a dictionary are indexed using keys, which can have different data types. \n",
    "\n",
    "\n"
   ]
  },
  {
   "cell_type": "code",
   "execution_count": null,
   "id": "b10bbcb2",
   "metadata": {},
   "outputs": [],
   "source": [
    "\n",
    "\n",
    "## 4. What happens if you try to access spam['foo'] if spam is {'bar': 100}?\n",
    "\n",
    "You will get a KeyError error.\n",
    "\n"
   ]
  },
  {
   "cell_type": "code",
   "execution_count": null,
   "id": "ba3dfb81",
   "metadata": {},
   "outputs": [],
   "source": [
    "\n",
    "\n",
    "## 5. If a dictionary is stored in spam, what is the difference between the expressions 'cat' in spam and 'cat' in spam.keys()?\n",
    "\n",
    "There is no difference, the expression \" 'cat' in spam \" checks whether 'cat' is a key in spam.\n",
    "\n",
    "\n"
   ]
  },
  {
   "cell_type": "code",
   "execution_count": null,
   "id": "60e87c64",
   "metadata": {},
   "outputs": [],
   "source": [
    "\n",
    "\n",
    "## 6. If a dictionary is stored in spam, what is the difference between the expressions 'cat' in spam and 'cat' in spam.values()?\n",
    "\n",
    "'cat' in spam checks whether'cat' exists as a key in spam. 'cat' in spam.values() checks whether 'cat' is a value in spam.\n",
    "\n",
    "\n"
   ]
  },
  {
   "cell_type": "code",
   "execution_count": null,
   "id": "d91e161d",
   "metadata": {},
   "outputs": [],
   "source": [
    "## 7. What is a shortcut for the following code?\n",
    "if 'color' not in spam:\n",
    "    spam['color'] = 'black'\n",
    "\n",
    "spam.setdefault('color','black')\n",
    "\n",
    "\n"
   ]
  },
  {
   "cell_type": "code",
   "execution_count": null,
   "id": "2ab9daeb",
   "metadata": {},
   "outputs": [],
   "source": [
    "#8.How do you pretty dictionary values using which module and function?\n",
    "The module is pprint.\n",
    "The functions are pprint.pprint() and pprint.pformat().\n"
   ]
  }
 ],
 "metadata": {
  "kernelspec": {
   "display_name": "Python 3 (ipykernel)",
   "language": "python",
   "name": "python3"
  },
  "language_info": {
   "codemirror_mode": {
    "name": "ipython",
    "version": 3
   },
   "file_extension": ".py",
   "mimetype": "text/x-python",
   "name": "python",
   "nbconvert_exporter": "python",
   "pygments_lexer": "ipython3",
   "version": "3.9.12"
  }
 },
 "nbformat": 4,
 "nbformat_minor": 5
}
